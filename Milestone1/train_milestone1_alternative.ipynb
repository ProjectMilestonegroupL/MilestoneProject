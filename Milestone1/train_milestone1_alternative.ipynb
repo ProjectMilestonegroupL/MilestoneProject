{
 "cells": [
  {
   "cell_type": "markdown",
   "source": "# Imports",
   "metadata": {
    "tags": [],
    "cell_id": "00000-2e87bacd-8389-4a50-8df8-263a6a4db5ec",
    "deepnote_cell_type": "text-cell-h1"
   }
  },
  {
   "cell_type": "code",
   "metadata": {
    "tags": [],
    "cell_id": "00000-4a5e8851-161b-47c6-88dd-be562b2d2996",
    "deepnote_to_be_reexecuted": false,
    "source_hash": "2a142b1a",
    "execution_start": 1621873065478,
    "execution_millis": 21632,
    "deepnote_cell_type": "code"
   },
   "source": "\nfrom typing import Tuple, List\n\n# importations\nimport pandas as pd\nimport numpy as np\nimport seaborn as sns\nimport matplotlib.pyplot as plt\nimport tensorflow as tf\n\nfrom sklearn.datasets import make_regression\nfrom keras.layers import Dense\nfrom keras.layers import Dropout\nfrom keras.layers import BatchNormalization\nfrom keras.models import Sequential\nfrom keras.optimizers import SGD\nfrom matplotlib import pyplot\nfrom keras.optimizers import Adam\nfrom keras.optimizers import Adadelta\nfrom keras.optimizers import Adagrad\nfrom keras.optimizers import RMSprop\nfrom keras.optimizers import Adamax\nfrom keras.optimizers import Adagrad\nfrom keras.optimizers import Ftrl\nfrom keras.optimizers import Nadam\nfrom keras.callbacks import EarlyStopping\nfrom tensorflow.keras import regularizers\n\n",
   "execution_count": 1,
   "outputs": []
  },
  {
   "cell_type": "markdown",
   "source": "# Data recuperation",
   "metadata": {
    "tags": [],
    "cell_id": "00001-4e5b7a49-fdc5-4099-b048-97fdf1203af0",
    "deepnote_cell_type": "text-cell-h1"
   }
  },
  {
   "cell_type": "code",
   "metadata": {
    "tags": [],
    "cell_id": "00001-ce53ff4f-7cec-47d0-a18e-879e7379a047",
    "deepnote_to_be_reexecuted": false,
    "source_hash": "7e92a1b1",
    "execution_start": 1621873087141,
    "execution_millis": 2705,
    "deepnote_cell_type": "code"
   },
   "source": "# data set complets\nX_train_all = pd.read_csv('train_set.csv')\nX_val_all=pd.read_csv('val_set.csv')\nX_test_all=pd.read_csv('test_set.csv')\n\n#numpy array\nX_train_all= X_train_all.to_numpy()\nX_val_all= X_val_all.to_numpy()\nX_test_all=X_test_all.to_numpy()\n",
   "execution_count": 2,
   "outputs": []
  },
  {
   "cell_type": "markdown",
   "source": "# Data reshape ",
   "metadata": {
    "tags": [],
    "cell_id": "00004-8daccab2-1ca2-4223-b612-ce43110577ec",
    "deepnote_cell_type": "text-cell-h1"
   }
  },
  {
   "cell_type": "code",
   "metadata": {
    "tags": [],
    "cell_id": "00001-7b442b1e-a0e2-48ab-8206-26430d9670a0",
    "deepnote_to_be_reexecuted": false,
    "source_hash": "1fcdc7d7",
    "execution_start": 1621873089863,
    "execution_millis": 47,
    "deepnote_cell_type": "code"
   },
   "source": "\nX_train= X_train_all[:,0:110].astype(np.float32)\ny_train= X_train_all[:,110].astype(np.float32)\nX_val= X_val_all[:,0:110].astype(np.float32)\ny_val= X_val_all[:,110].astype(np.float32)\nX_test= X_test_all.astype(np.float32)\n",
   "execution_count": 3,
   "outputs": []
  },
  {
   "cell_type": "markdown",
   "source": "# Model (NN, loss, optimizer &amp; .csv submission file generation)",
   "metadata": {
    "tags": [],
    "cell_id": "00006-1617876e-e0f7-400a-ba31-df28a4521a81",
    "deepnote_cell_type": "text-cell-h1"
   }
  },
  {
   "cell_type": "code",
   "metadata": {
    "tags": [],
    "cell_id": "00001-36a2c312-9b4f-4cf9-8baa-41f261ae6cd2",
    "deepnote_to_be_reexecuted": false,
    "source_hash": "7916c66c",
    "execution_start": 1621874615294,
    "execution_millis": 2,
    "deepnote_cell_type": "code"
   },
   "source": "def evaluate_model(X_train, y_train, X_val, y_val):\n    \n# define model\n    model = Sequential()\n    model.add(Dense(66, activation='softsign'))\n    model.add(BatchNormalization())\n    model.add(Dense(20, activation='softsign'))\n    model.add(Dropout(0.1))\n    model.add(Dense(1, activation='linear'))\n    \n    \n#early stopping \n    callback = tf.keras.callbacks.EarlyStopping(monitor='loss', patience=8)\n# compile model  \n    model.compile(loss='mean_squared_error', optimizer=RMSprop(learning_rate=0.0011, rho=0.9, momentum=0))\n    history = model.fit(X_train, y_train, validation_data=(X_val, y_val), epochs=90, callbacks=[callback], verbose=0)\n    len(history.history['loss']) \n# evaluate the model\n    train_mse = model.evaluate(X_train, y_train, verbose=0)\n    val_mse = model.evaluate(X_val, y_val, verbose=0)\n    print('Train: %.3f, Val: %.3f' % (train_mse, val_mse))\n    print('Stop at epoch: %.f' % len(history.history['loss']) )\n#convert into csv file\n    okok = model(X_test).numpy()\n    df = pd.DataFrame(okok,columns=[\"sat1_col\"])\n    df.to_csv(\"sat1_col.csv\", index = False)\n\n# plot loss during training\n    pyplot.title('Mean Squared Error')\n    pyplot.plot(history.history['loss'], label='train')\n    pyplot.plot(history.history['val_loss'], label='val')\n    pyplot.legend()\n    pyplot.show()\n    return val_mse\n\n",
   "execution_count": 26,
   "outputs": []
  },
  {
   "cell_type": "markdown",
   "source": "# Model training &amp; evaluation",
   "metadata": {
    "tags": [],
    "cell_id": "00009-eabaf0b4-7ad0-4ec5-a7d2-d9b127be33e1",
    "deepnote_cell_type": "text-cell-h1"
   }
  },
  {
   "cell_type": "code",
   "metadata": {
    "tags": [],
    "cell_id": "00005-45e3a035-bfcb-4f8f-a649-241013f5cf9b",
    "deepnote_to_be_reexecuted": false,
    "source_hash": "a0e84a9c",
    "execution_start": 1621874617475,
    "execution_millis": 28457,
    "deepnote_cell_type": "code"
   },
   "source": "evaluate_model(X_train, y_train, X_val, y_val)",
   "execution_count": 27,
   "outputs": [
    {
     "name": "stdout",
     "text": "Train: 0.141, Val: 0.140\nStop at epoch: 61\n",
     "output_type": "stream"
    },
    {
     "data": {
      "text/plain": "<Figure size 432x288 with 1 Axes>",
      "image/png": "[encoded data removed]"
     },
     "metadata": {
      "needs_background": "light",
      "image/png": {
       "width": 378,
       "height": 264
      }
     },
     "output_type": "display_data"
    },
    {
     "output_type": "execute_result",
     "execution_count": 27,
     "data": {
      "text/plain": "0.14047451317310333"
     },
     "metadata": {}
    }
   ]
  },
  {
   "cell_type": "markdown",
   "source": "<a style='text-decoration:none;line-height:16px;display:flex;color:#5B5B62;padding:10px;justify-content:end;' href='https://deepnote.com?utm_source=created-in-deepnote-cell&projectId=8caafda0-6921-4227-a513-0500323e6b45' target=\"_blank\">\n<img alt='Created in deepnote.com' style='display:inline;max-height:16px;margin:0px;margin-right:7.5px;' src='data:image/svg+xml;base64,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' > </img>\nCreated in <span style='font-weight:600;margin-left:4px;'>Deepnote</span></a>",
   "metadata": {
    "tags": [],
    "created_in_deepnote_cell": true,
    "deepnote_cell_type": "markdown"
   }
  }
 ],
 "nbformat": 4,
 "nbformat_minor": 2,
 "metadata": {
  "orig_nbformat": 2,
  "deepnote": {
   "is_reactive": false
  },
  "deepnote_notebook_id": "e7424171-3c4f-4a60-83c5-4235152dfd2b",
  "deepnote_execution_queue": []
 }
}